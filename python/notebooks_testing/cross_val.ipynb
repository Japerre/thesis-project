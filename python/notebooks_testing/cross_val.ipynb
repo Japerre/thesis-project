{
 "cells": [
  {
   "cell_type": "code",
   "execution_count": 4,
   "metadata": {},
   "outputs": [],
   "source": [
    "import sys\n",
    "import pandas as pd\n",
    "from sklearn.model_selection import train_test_split\n",
    "from pathlib import Path\n",
    "from sklearn.model_selection import KFold"
   ]
  },
  {
   "cell_type": "code",
   "execution_count": 17,
   "metadata": {},
   "outputs": [
    {
     "name": "stdout",
     "output_type": "stream",
     "text": [
      "<class 'pandas.core.frame.DataFrame'>\n",
      "<class 'pandas.core.frame.DataFrame'>\n",
      "<class 'pandas.core.frame.DataFrame'>\n",
      "<class 'pandas.core.frame.DataFrame'>\n",
      "<class 'pandas.core.frame.DataFrame'>\n",
      "<class 'pandas.core.frame.DataFrame'>\n",
      "<class 'pandas.core.frame.DataFrame'>\n",
      "<class 'pandas.core.frame.DataFrame'>\n",
      "<class 'pandas.core.frame.DataFrame'>\n",
      "<class 'pandas.core.frame.DataFrame'>\n"
     ]
    }
   ],
   "source": [
    "input_dataset_file = Path(r'C:\\Users\\tibol\\Desktop\\FIIW Tibo Laperre\\fase 5 - thesis\\thesis-projectV3\\data\\input\\datasets\\ACSIncome_USA_2018_binned_imbalanced_16645\\ACSIncome_USA_2018_binned_imbalanced_16645.csv')\n",
    "train_dataset_percentage = 0.8\n",
    "cross_validate = True\n",
    "\n",
    "df = pd.read_csv(input_dataset_file, delimiter=';')\n",
    "\n",
    "if cross_validate:\n",
    "  kf = KFold(n_splits=10, shuffle=True)\n",
    "  for fold, (train_indices, test_indices) in enumerate(kf.split(df)):\n",
    "    train_set = df.iloc[train_indices]\n",
    "    test_set = df.iloc[test_indices]\n",
    "    print(type(train_set))"
   ]
  }
 ],
 "metadata": {
  "kernelspec": {
   "display_name": "folktables",
   "language": "python",
   "name": "python3"
  },
  "language_info": {
   "codemirror_mode": {
    "name": "ipython",
    "version": 3
   },
   "file_extension": ".py",
   "mimetype": "text/x-python",
   "name": "python",
   "nbconvert_exporter": "python",
   "pygments_lexer": "ipython3",
   "version": "3.10.13"
  }
 },
 "nbformat": 4,
 "nbformat_minor": 2
}
