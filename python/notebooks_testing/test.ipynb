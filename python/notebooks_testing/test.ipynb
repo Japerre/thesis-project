{
 "cells": [
  {
   "cell_type": "code",
   "execution_count": null,
   "metadata": {},
   "outputs": [],
   "source": [
    "def create_hierarchy(combo):\n",
    "    index, algorithm, config, df = combo\n",
    "\n",
    "def create_hierarchies():\n",
    "    global config\n",
    "    train_test_splits = config['train_test_splits']\n",
    "    ml_data_path = config['ml_data_path']\n",
    "    algorithms = config['algorithms']\n",
    "    cols = list(config['hierarchy_cols'])\n",
    "    cols.append(config['target_col'])\n",
    "\n",
    "    df = pd.read_csv(ml_data_path, sep=';', decimal=',')[cols]\n",
    "\n",
    "    # als ARX methode moet gedraaid worden moet deze eerst zodat we de cluster hoeveelheden kunnen gebruiken\n",
    "    if arx in algorithms:\n",
    "        jobs = [(i, arx, config, df) for i in range(train_test_splits)]\n",
    "        if not debug_mode:\n",
    "            with Pool(processes=cores) as pool:\n",
    "                list(tqdm(pool.imap(create_hierarchy, jobs), total=len(jobs), desc='Creating arx hierarchies'))\n",
    "                #tqdm zorgt voor progress bars --> je kan ook gwn pool.imap doen\n",
    "        else:\n",
    "            for job in tqdm(jobs, total=len(jobs), desc='Creating arx hierarchies'):\n",
    "                create_hierarchy(job)\n",
    "\n",
    "    jobs = [(i, algorithm, config, df) for i in range(train_test_splits) for algorithm in algorithms if\n",
    "            algorithm != arx]\n",
    "    if not debug_mode:\n",
    "        with Pool(processes=cores) as pool:\n",
    "            list(tqdm(pool.imap(create_hierarchy, jobs), total=len(jobs), desc='Creating hierarchies'))\n",
    "    else:\n",
    "        for job in tqdm(jobs, total=len(jobs), desc='Creating hierarchies'):\n",
    "            create_hierarchy(job)"
   ]
  }
 ],
 "metadata": {
  "language_info": {
   "name": "python"
  }
 },
 "nbformat": 4,
 "nbformat_minor": 2
}
