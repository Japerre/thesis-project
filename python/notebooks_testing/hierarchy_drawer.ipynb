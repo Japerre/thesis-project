{
 "cells": [
  {
   "cell_type": "code",
   "execution_count": 28,
   "metadata": {},
   "outputs": [],
   "source": [
    "import matplotlib.pyplot as plt\n",
    "import pandas as pd\n",
    "import networkx as nx\n",
    "from collections import defaultdict"
   ]
  },
  {
   "cell_type": "code",
   "execution_count": 34,
   "metadata": {},
   "outputs": [
    {
     "data": {
      "text/html": [
       "<div>\n",
       "<style scoped>\n",
       "    .dataframe tbody tr th:only-of-type {\n",
       "        vertical-align: middle;\n",
       "    }\n",
       "\n",
       "    .dataframe tbody tr th {\n",
       "        vertical-align: top;\n",
       "    }\n",
       "\n",
       "    .dataframe thead th {\n",
       "        text-align: right;\n",
       "    }\n",
       "</style>\n",
       "<table border=\"1\" class=\"dataframe\">\n",
       "  <thead>\n",
       "    <tr style=\"text-align: right;\">\n",
       "      <th></th>\n",
       "      <th>0</th>\n",
       "      <th>1</th>\n",
       "      <th>2</th>\n",
       "    </tr>\n",
       "  </thead>\n",
       "  <tbody>\n",
       "    <tr>\n",
       "      <th>0</th>\n",
       "      <td>Never married or under 15 years old</td>\n",
       "      <td>Spouse not present</td>\n",
       "      <td>*</td>\n",
       "    </tr>\n",
       "    <tr>\n",
       "      <th>1</th>\n",
       "      <td>Separated</td>\n",
       "      <td>Spouse not present</td>\n",
       "      <td>*</td>\n",
       "    </tr>\n",
       "    <tr>\n",
       "      <th>2</th>\n",
       "      <td>Divorced</td>\n",
       "      <td>Spouse not present</td>\n",
       "      <td>*</td>\n",
       "    </tr>\n",
       "    <tr>\n",
       "      <th>3</th>\n",
       "      <td>Married</td>\n",
       "      <td>Spouse present</td>\n",
       "      <td>*</td>\n",
       "    </tr>\n",
       "    <tr>\n",
       "      <th>4</th>\n",
       "      <td>Widowed</td>\n",
       "      <td>Spouse not present</td>\n",
       "      <td>*</td>\n",
       "    </tr>\n",
       "  </tbody>\n",
       "</table>\n",
       "</div>"
      ],
      "text/plain": [
       "                                     0                   1  2\n",
       "0  Never married or under 15 years old  Spouse not present  *\n",
       "1                            Separated  Spouse not present  *\n",
       "2                             Divorced  Spouse not present  *\n",
       "3                              Married      Spouse present  *\n",
       "4                              Widowed  Spouse not present  *"
      ]
     },
     "execution_count": 34,
     "metadata": {},
     "output_type": "execute_result"
    }
   ],
   "source": [
    "hierarchy_path = r'C:\\Users\\tibol\\Desktop\\FIIW Tibo Laperre\\fase 5 - thesis\\thesis-projectV3\\data_local\\input\\datasets\\ACSIncome_USA_2018_binned_imbalanced_16645\\hierarchies\\MAR.csv'\n",
    "hierarchy_df = pd.read_csv(hierarchy_path, sep=';', decimal=',', header=None)\n",
    "hierarchy_df"
   ]
  },
  {
   "cell_type": "code",
   "execution_count": 35,
   "metadata": {},
   "outputs": [],
   "source": [
    "# A recursive function to add nodes and edges to the graph\n",
    "def add_nodes_edges(graph, node, hierarchy, level=0):\n",
    "    if level == len(hierarchy) - 1:\n",
    "        return\n",
    "    for child in hierarchy[level + 1].get(node, []):\n",
    "        graph.add_edge(node, child)\n",
    "        add_nodes_edges(graph, child, hierarchy, level + 1)"
   ]
  },
  {
   "cell_type": "code",
   "execution_count": 36,
   "metadata": {},
   "outputs": [
    {
     "data": {
      "image/png": "[encoded data removed]",
      "text/plain": [
       "<Figure size 640x480 with 1 Axes>"
      ]
     },
     "metadata": {},
     "output_type": "display_data"
    }
   ],
   "source": [
    "\n",
    "# Convert the DataFrame into a dictionary where keys are nodes and values are lists of child nodes\n",
    "hierarchy = defaultdict(lambda: defaultdict(list))\n",
    "for index, row in hierarchy_df.iterrows():\n",
    "    for level in range(len(row) - 1):\n",
    "        hierarchy[level][row[level]].append(row[level + 1])\n",
    "\n",
    "# Initialize an empty directed graph\n",
    "G = nx.DiGraph()\n",
    "\n",
    "# Add nodes and edges to the graph using the recursive function\n",
    "for root in hierarchy[0]:\n",
    "    add_nodes_edges(G, root, hierarchy)\n",
    "\n",
    "# Draw the hierarchical graph with a suitable layout\n",
    "pos = nx.drawing.nx_agraph.graphviz_layout(G, prog='dot')\n",
    "nx.draw(G, pos, with_labels=True, arrows=True)\n",
    "\n",
    "plt.show()"
   ]
  },
  {
   "cell_type": "code",
   "execution_count": null,
   "metadata": {},
   "outputs": [],
   "source": []
  }
 ],
 "metadata": {
  "kernelspec": {
   "display_name": "folktables",
   "language": "python",
   "name": "python3"
  },
  "language_info": {
   "codemirror_mode": {
    "name": "ipython",
    "version": 3
   },
   "file_extension": ".py",
   "mimetype": "text/x-python",
   "name": "python",
   "nbconvert_exporter": "python",
   "pygments_lexer": "ipython3",
   "version": "3.10.13"
  }
 },
 "nbformat": 4,
 "nbformat_minor": 2
}
