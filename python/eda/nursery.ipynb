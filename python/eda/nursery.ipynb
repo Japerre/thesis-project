{
 "cells": [
  {
   "cell_type": "code",
   "execution_count": 1,
   "metadata": {},
   "outputs": [],
   "source": [
    "import pandas as pd\n",
    "from pathlib import Path\n",
    "import matplotlib.pyplot as plt\n",
    "import seaborn as sns"
   ]
  },
  {
   "cell_type": "code",
   "execution_count": 2,
   "metadata": {},
   "outputs": [],
   "source": [
    "input_dataset_path = Path('../../data_local/input/datasets/nursery/nursery.csv').resolve()\n",
    "df = pd.read_csv(input_dataset_path, sep=';')"
   ]
  },
  {
   "cell_type": "code",
   "execution_count": 3,
   "metadata": {},
   "outputs": [
    {
     "name": "stdout",
     "output_type": "stream",
     "text": [
      "len Unique values in column 'parents': 3\n",
      "Unique values in column 'parents': ['usual' 'pretentious' 'great_pret']\n",
      "len Unique values in column 'has_nurs': 5\n",
      "Unique values in column 'has_nurs': ['proper' 'less_proper' 'improper' 'critical' 'very_crit']\n",
      "len Unique values in column 'form': 4\n",
      "Unique values in column 'form': ['complete' 'completed' 'incomplete' 'foster']\n",
      "len Unique values in column 'children': 4\n",
      "Unique values in column 'children': ['1' '2' '3' 'more']\n",
      "len Unique values in column 'housing': 3\n",
      "Unique values in column 'housing': ['convenient' 'less_conv' 'critical']\n",
      "len Unique values in column 'finance': 2\n",
      "Unique values in column 'finance': ['convenient' 'inconv']\n",
      "len Unique values in column 'social': 3\n",
      "Unique values in column 'social': ['nonprob' 'slightly_prob' 'problematic']\n",
      "len Unique values in column 'health': 3\n",
      "Unique values in column 'health': ['priority' 'not_recom' 'recommended']\n",
      "len Unique values in column 'class': 4\n",
      "Unique values in column 'class': ['priority' 'not_recom' 'very_recom' 'spec_prior']\n"
     ]
    }
   ],
   "source": [
    "for column in df.columns:\n",
    "    len_unique_values = len(df[column].unique())\n",
    "    unique_values = df[column].unique()\n",
    "    print(f\"len Unique values in column '{column}': {len_unique_values}\")\n",
    "    print(f\"Unique values in column '{column}': {unique_values}\")"
   ]
  },
  {
   "cell_type": "code",
   "execution_count": null,
   "metadata": {},
   "outputs": [],
   "source": []
  }
 ],
 "metadata": {
  "kernelspec": {
   "display_name": "folktables",
   "language": "python",
   "name": "python3"
  },
  "language_info": {
   "codemirror_mode": {
    "name": "ipython",
    "version": 3
   },
   "file_extension": ".py",
   "mimetype": "text/x-python",
   "name": "python",
   "nbconvert_exporter": "python",
   "pygments_lexer": "ipython3",
   "version": "3.10.13"
  }
 },
 "nbformat": 4,
 "nbformat_minor": 2
}
