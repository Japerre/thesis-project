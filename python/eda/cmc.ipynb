{
 "cells": [
  {
   "cell_type": "code",
   "execution_count": 1,
   "metadata": {},
   "outputs": [],
   "source": [
    "import pandas as pd\n",
    "from pathlib import Path\n",
    "import matplotlib.pyplot as plt\n",
    "import seaborn as sns"
   ]
  },
  {
   "cell_type": "code",
   "execution_count": 3,
   "metadata": {},
   "outputs": [],
   "source": [
    "input_dataset_path = Path('../../data_local/input/datasets/cmc/cmc.csv').resolve()\n",
    "df = pd.read_csv(input_dataset_path, sep=';')"
   ]
  },
  {
   "cell_type": "code",
   "execution_count": 8,
   "metadata": {},
   "outputs": [
    {
     "name": "stdout",
     "output_type": "stream",
     "text": [
      "Unique values in column 'WIFEAGE': 34\n",
      "Unique values in column 'WIFEEDU': 4\n",
      "Unique values in column 'HUSBEDU': 4\n",
      "Unique values in column 'CHLD': 15\n",
      "Unique values in column 'WIFEREL': 2\n",
      "Unique values in column 'WIFEWORK': 2\n",
      "Unique values in column 'HUSBOCP': 4\n",
      "Unique values in column 'SOLI': 4\n",
      "Unique values in column 'MDXP': 2\n",
      "Unique values in column 'CMU': 3\n"
     ]
    }
   ],
   "source": [
    "for column in df.columns:\n",
    "    unique_values = len(df[column].unique())\n",
    "    print(f\"Unique values in column '{column}': {unique_values}\")"
   ]
  }
 ],
 "metadata": {
  "kernelspec": {
   "display_name": "folktables",
   "language": "python",
   "name": "python3"
  },
  "language_info": {
   "codemirror_mode": {
    "name": "ipython",
    "version": 3
   },
   "file_extension": ".py",
   "mimetype": "text/x-python",
   "name": "python",
   "nbconvert_exporter": "python",
   "pygments_lexer": "ipython3",
   "version": "3.10.13"
  }
 },
 "nbformat": 4,
 "nbformat_minor": 2
}
